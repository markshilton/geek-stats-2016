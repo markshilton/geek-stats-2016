{
 "cells": [
  {
   "cell_type": "code",
   "execution_count": 2,
   "metadata": {
    "collapsed": true
   },
   "outputs": [],
   "source": [
    "import requests"
   ]
  },
  {
   "cell_type": "code",
   "execution_count": 3,
   "metadata": {
    "collapsed": false
   },
   "outputs": [],
   "source": [
    "files = {'f': ('Results_07_Vallnord.pdf', open('Results_07_Vallnord.pdf', 'rb'))}\n",
    "response = requests.post(\"https://pdftables.com/api?key=d1n7ydhafd5t&format=xlsx-single\", files=files)\n",
    "response.raise_for_status() # ensure we notice bad responses\n",
    "with open(\"Results_07_Vallnord_RAW.xlsx\", \"wb\") as f:\n",
    "    f.write(response.content)"
   ]
  }
 ],
 "metadata": {
  "kernelspec": {
   "display_name": "Python 3",
   "language": "python",
   "name": "python3"
  },
  "language_info": {
   "codemirror_mode": {
    "name": "ipython",
    "version": 3
   },
   "file_extension": ".py",
   "mimetype": "text/x-python",
   "name": "python",
   "nbconvert_exporter": "python",
   "pygments_lexer": "ipython3",
   "version": "3.4.5"
  }
 },
 "nbformat": 4,
 "nbformat_minor": 0
}
